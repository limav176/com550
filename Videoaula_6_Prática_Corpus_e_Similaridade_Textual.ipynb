{
  "nbformat": 4,
  "nbformat_minor": 0,
  "metadata": {
    "colab": {
      "provenance": [],
      "include_colab_link": true
    },
    "kernelspec": {
      "name": "python3",
      "display_name": "Python 3"
    },
    "language_info": {
      "name": "python"
    }
  },
  "cells": [
    {
      "cell_type": "markdown",
      "metadata": {
        "id": "view-in-github",
        "colab_type": "text"
      },
      "source": [
        "<a href=\"https://colab.research.google.com/github/limav176/com550/blob/main/Videoaula_6_Pra%CC%81tica_Corpus_e_Similaridade_Textual.ipynb\" target=\"_parent\"><img src=\"https://colab.research.google.com/assets/colab-badge.svg\" alt=\"Open In Colab\"/></a>"
      ]
    },
    {
      "cell_type": "markdown",
      "source": [
        "# COM550 - Processamento de Linguagem Natural\n",
        "\n",
        "## Semana 2 - Introdução ao Processamento de Linguagem Natural\n",
        "## Videoaula 6 - *Corpus* e Similaridade Textual\n"
      ],
      "metadata": {
        "id": "MD5gnbZ1QEWi"
      }
    },
    {
      "cell_type": "markdown",
      "source": [
        "# Revisão sobre *Corpus*"
      ],
      "metadata": {
        "id": "Hdkb0UKxC_I7"
      }
    },
    {
      "cell_type": "code",
      "source": [
        "poema = \"\"\"E agora, José?\n",
        "A festa acabou,\n",
        "a luz apagou,\n",
        "o povo sumiu,\n",
        "a noite esfriou,\n",
        "e agora, José?\n",
        "e agora, você?\n",
        "você que é sem nome,\n",
        "que zomba dos outros,\n",
        "você que faz versos,\n",
        "que ama, protesta?\n",
        "e agora, José?\n",
        "\n",
        "Está sem mulher,\n",
        "está sem discurso,\n",
        "está sem carinho,\n",
        "já não pode beber,\n",
        "já não pode fumar,\n",
        "cuspir já não pode,\n",
        "a noite esfriou,\n",
        "o dia não veio,\n",
        "o bonde não veio,\n",
        "o riso não veio,\n",
        "não veio a utopia\n",
        "e tudo acabou\n",
        "e tudo fugiu\n",
        "e tudo mofou,\n",
        "e agora, José?\n",
        "\n",
        "E agora, José?\n",
        "Sua doce palavra,\n",
        "seu instante de febre,\n",
        "sua gula e jejum,\n",
        "sua biblioteca,\n",
        "sua lavra de ouro,\n",
        "seu terno de vidro,\n",
        "sua incoerência,\n",
        "seu ódio - e agora?\n",
        "\n",
        "Com a chave na mão\n",
        "quer abrir a porta,\n",
        "não existe porta;\n",
        "quer morrer no mar,\n",
        "mas o mar secou;\n",
        "quer ir para Minas,\n",
        "Minas não há mais.\n",
        "José, e agora?\n",
        "\n",
        "Se você gritasse,\n",
        "se você gemesse,\n",
        "se você tocasse\n",
        "a valsa vienense,\n",
        "se você dormisse,\n",
        "se você cansasse,\n",
        "se você morresse...\n",
        "Mas você não morre,\n",
        "você é duro, José!\n",
        "\n",
        "Sozinho no escuro\n",
        "qual bicho-do-mato,\n",
        "sem teogonia,\n",
        "sem parede nua\n",
        "para se encostar,\n",
        "sem cavalo preto\n",
        "que fuja a galope,\n",
        "você marcha, José!\n",
        "José, para onde?\"\"\"\n"
      ],
      "metadata": {
        "id": "wYkXdvkURMde"
      },
      "execution_count": null,
      "outputs": []
    },
    {
      "cell_type": "code",
      "source": [
        "import nltk\n",
        "from nltk import tokenize\n",
        "nltk.download('punkt') # necessário para baixar o tokenizador"
      ],
      "metadata": {
        "colab": {
          "base_uri": "https://localhost:8080/"
        },
        "id": "jApV77_rUBgF",
        "outputId": "ecb98b93-8577-4063-a58e-28447a8d6534"
      },
      "execution_count": null,
      "outputs": [
        {
          "output_type": "stream",
          "name": "stderr",
          "text": [
            "[nltk_data] Downloading package punkt to /root/nltk_data...\n",
            "[nltk_data]   Package punkt is already up-to-date!\n"
          ]
        },
        {
          "output_type": "execute_result",
          "data": {
            "text/plain": [
              "True"
            ]
          },
          "metadata": {},
          "execution_count": 75
        }
      ]
    },
    {
      "cell_type": "markdown",
      "source": [
        "## Contagem de *tokens* e *types*"
      ],
      "metadata": {
        "id": "1LwpkxXORdtn"
      }
    },
    {
      "cell_type": "code",
      "source": [
        "tokens = tokenize.word_tokenize(poema, language=\"portuguese\")\n",
        "minusculas = tokenize.word_tokenize(poema.lower(), language=\"portuguese\")\n",
        "\n",
        "vocabulario = set(minusculas)\n",
        "\n",
        "print(\"Quantidade de tokens: \",len(tokens))\n",
        "print(\"Quantidade de types: \",len(vocabulario))"
      ],
      "metadata": {
        "colab": {
          "base_uri": "https://localhost:8080/"
        },
        "id": "kbDbLBsORePM",
        "outputId": "b52a1775-1436-4107-df06-60ad08e3afce"
      },
      "execution_count": null,
      "outputs": [
        {
          "output_type": "stream",
          "name": "stdout",
          "text": [
            "Quantidade de tokens:  274\n",
            "Quantidade de types:  109\n"
          ]
        }
      ]
    },
    {
      "cell_type": "code",
      "source": [
        "print(tokens)\n",
        "print(len(tokens))"
      ],
      "metadata": {
        "colab": {
          "base_uri": "https://localhost:8080/"
        },
        "id": "YvtUCWdZRpR_",
        "outputId": "b2abdc5e-7f30-4de7-875c-3c430b029267"
      },
      "execution_count": null,
      "outputs": [
        {
          "output_type": "stream",
          "name": "stdout",
          "text": [
            "['E', 'agora', ',', 'José', '?', 'A', 'festa', 'acabou', ',', 'a', 'luz', 'apagou', ',', 'o', 'povo', 'sumiu', ',', 'a', 'noite', 'esfriou', ',', 'e', 'agora', ',', 'José', '?', 'e', 'agora', ',', 'você', '?', 'você', 'que', 'é', 'sem', 'nome', ',', 'que', 'zomba', 'dos', 'outros', ',', 'você', 'que', 'faz', 'versos', ',', 'que', 'ama', ',', 'protesta', '?', 'e', 'agora', ',', 'José', '?', 'Está', 'sem', 'mulher', ',', 'está', 'sem', 'discurso', ',', 'está', 'sem', 'carinho', ',', 'já', 'não', 'pode', 'beber', ',', 'já', 'não', 'pode', 'fumar', ',', 'cuspir', 'já', 'não', 'pode', ',', 'a', 'noite', 'esfriou', ',', 'o', 'dia', 'não', 'veio', ',', 'o', 'bonde', 'não', 'veio', ',', 'o', 'riso', 'não', 'veio', ',', 'não', 'veio', 'a', 'utopia', 'e', 'tudo', 'acabou', 'e', 'tudo', 'fugiu', 'e', 'tudo', 'mofou', ',', 'e', 'agora', ',', 'José', '?', 'E', 'agora', ',', 'José', '?', 'Sua', 'doce', 'palavra', ',', 'seu', 'instante', 'de', 'febre', ',', 'sua', 'gula', 'e', 'jejum', ',', 'sua', 'biblioteca', ',', 'sua', 'lavra', 'de', 'ouro', ',', 'seu', 'terno', 'de', 'vidro', ',', 'sua', 'incoerência', ',', 'seu', 'ódio', '-', 'e', 'agora', '?', 'Com', 'a', 'chave', 'na', 'mão', 'quer', 'abrir', 'a', 'porta', ',', 'não', 'existe', 'porta', ';', 'quer', 'morrer', 'no', 'mar', ',', 'mas', 'o', 'mar', 'secou', ';', 'quer', 'ir', 'para', 'Minas', ',', 'Minas', 'não', 'há', 'mais', '.', 'José', ',', 'e', 'agora', '?', 'Se', 'você', 'gritasse', ',', 'se', 'você', 'gemesse', ',', 'se', 'você', 'tocasse', 'a', 'valsa', 'vienense', ',', 'se', 'você', 'dormisse', ',', 'se', 'você', 'cansasse', ',', 'se', 'você', 'morresse', '...', 'Mas', 'você', 'não', 'morre', ',', 'você', 'é', 'duro', ',', 'José', '!', 'Sozinho', 'no', 'escuro', 'qual', 'bicho-do-mato', ',', 'sem', 'teogonia', ',', 'sem', 'parede', 'nua', 'para', 'se', 'encostar', ',', 'sem', 'cavalo', 'preto', 'que', 'fuja', 'a', 'galope', ',', 'você', 'marcha', ',', 'José', '!', 'José', ',', 'para', 'onde', '?']\n",
            "274\n"
          ]
        }
      ]
    },
    {
      "cell_type": "code",
      "source": [
        "print(vocabulario)\n",
        "print(len(vocabulario))"
      ],
      "metadata": {
        "colab": {
          "base_uri": "https://localhost:8080/"
        },
        "id": "Y-sIqnL-Rs9X",
        "outputId": "30b1a414-9784-4615-ec7f-19339f14301a"
      },
      "execution_count": null,
      "outputs": [
        {
          "output_type": "stream",
          "name": "stdout",
          "text": [
            "{'luz', 'noite', 'bonde', 'gula', 'vidro', 'febre', 'utopia', 'gemesse', '...', 'com', 'mar', 'tocasse', '.', 'escuro', 'dormisse', 'bicho-do-mato', 'onde', 'incoerência', 'faz', 'sem', 'abrir', 'mais', 'fuja', 'lavra', 'beber', 'cavalo', ',', 'há', 'na', 'esfriou', 'porta', 'terno', 'carinho', 'instante', 'que', 'morrer', 'qual', 'se', 'cuspir', 'ouro', 'pode', 'preto', 'no', 'está', 'seu', 'veio', 'nome', 'e', 'galope', 'gritasse', 'agora', 'é', 'dia', 'quer', 'parede', 'dos', 'apagou', 'doce', 'outros', 'acabou', 'duro', 'protesta', 'já', 'mão', 'para', 'marcha', 'você', 'minas', 'teogonia', 'tudo', 'de', 'sumiu', 'mofou', 'mas', 'existe', 'o', 'não', 'valsa', ';', '!', 'sua', 'discurso', 'morresse', 'fugiu', 'sozinho', '-', '?', 'palavra', 'biblioteca', 'vienense', 'mulher', 'a', 'riso', 'versos', 'josé', 'povo', 'ama', 'festa', 'ir', 'nua', 'fumar', 'jejum', 'cansasse', 'encostar', 'chave', 'morre', 'zomba', 'ódio', 'secou'}\n",
            "109\n"
          ]
        }
      ]
    },
    {
      "cell_type": "markdown",
      "source": [
        "## Segmentação de sentenças"
      ],
      "metadata": {
        "id": "AhhIvRTRR1oD"
      }
    },
    {
      "cell_type": "code",
      "source": [
        "sentencas = nltk.sent_tokenize(poema, language=\"portuguese\")\n",
        "print(sentencas)\n",
        "print(len(sentencas))"
      ],
      "metadata": {
        "colab": {
          "base_uri": "https://localhost:8080/"
        },
        "id": "g00STaIFR1L7",
        "outputId": "bbb2fe0a-d68e-4c2c-c8c1-cee65cc25001"
      },
      "execution_count": null,
      "outputs": [
        {
          "output_type": "stream",
          "name": "stdout",
          "text": [
            "['E agora, José?', 'A festa acabou,\\na luz apagou,\\no povo sumiu,\\na noite esfriou,\\ne agora, José?', 'e agora, você?', 'você que é sem nome,\\nque zomba dos outros,\\nvocê que faz versos,\\nque ama, protesta?', 'e agora, José?', 'Está sem mulher,\\nestá sem discurso,\\nestá sem carinho,\\njá não pode beber,\\njá não pode fumar,\\ncuspir já não pode,\\na noite esfriou,\\no dia não veio,\\no bonde não veio,\\no riso não veio,\\nnão veio a utopia\\ne tudo acabou\\ne tudo fugiu\\ne tudo mofou,\\ne agora, José?', 'E agora, José?', 'Sua doce palavra,\\nseu instante de febre,\\nsua gula e jejum,\\nsua biblioteca,\\nsua lavra de ouro,\\nseu terno de vidro,\\nsua incoerência,\\nseu ódio - e agora?', 'Com a chave na mão\\nquer abrir a porta,\\nnão existe porta;\\nquer morrer no mar,\\nmas o mar secou;\\nquer ir para Minas,\\nMinas não há mais.', 'José, e agora?', 'Se você gritasse,\\nse você gemesse,\\nse você tocasse\\na valsa vienense,\\nse você dormisse,\\nse você cansasse,\\nse você morresse...', 'Mas você não morre,\\nvocê é duro, José!', 'Sozinho no escuro\\nqual bicho-do-mato,\\nsem teogonia,\\nsem parede nua\\npara se encostar,\\nsem cavalo preto\\nque fuja a galope,\\nvocê marcha, José!', 'José, para onde?']\n",
            "14\n"
          ]
        }
      ]
    },
    {
      "cell_type": "markdown",
      "source": [
        "# Similaridade textual"
      ],
      "metadata": {
        "id": "McyOtSv6DQU9"
      }
    },
    {
      "cell_type": "code",
      "source": [
        "import pandas as pd\n",
        "import numpy as np"
      ],
      "metadata": {
        "id": "UzzAr9N372mX"
      },
      "execution_count": 1,
      "outputs": []
    },
    {
      "cell_type": "code",
      "source": [
        "texts = ['O Grêmio é tricampeão da Libertadores da América',\n",
        "         'O Corinthians ganhou a Libertadores uma única vez']\n",
        "classes = ['Grêmio', 'Corinthians']\n",
        "\n",
        "df = pd.DataFrame({'texts': texts, 'classes': classes})\n",
        "print(df)"
      ],
      "metadata": {
        "id": "lvBveXtE74TR",
        "colab": {
          "base_uri": "https://localhost:8080/"
        },
        "outputId": "e262ec94-b945-4a44-d04d-92b098ef8f32"
      },
      "execution_count": 2,
      "outputs": [
        {
          "output_type": "stream",
          "name": "stdout",
          "text": [
            "                                               texts      classes\n",
            "0   O Grêmio é tricampeão da Libertadores da América       Grêmio\n",
            "1  O Corinthians ganhou a Libertadores uma única vez  Corinthians\n"
          ]
        }
      ]
    },
    {
      "cell_type": "markdown",
      "source": [
        "## Similaridade Textual baseada em caracteres"
      ],
      "metadata": {
        "id": "KPzlLxzl6R00"
      }
    },
    {
      "cell_type": "markdown",
      "source": [
        "## A distância de Levenshtein\n",
        "\n",
        "\"Este método foi inventado em 1965 pelo matemático russo Vladimir Levenshtein (1935-2017). O valor da distância descreve o número mínimo de remoções, inserções ou substituições necessárias para transformar uma *string* em outra.\"\n",
        "\n",
        "FONTE: [Distância de Levenshtein e similaridade de texto em Python](http://stackabuse.com/levenshtein-distance-and-text-similarity-in-python/)"
      ],
      "metadata": {
        "id": "5uRcpUp96ZVC"
      }
    },
    {
      "cell_type": "code",
      "source": [
        "def levenshtein(seq1, seq2):\n",
        "    # criar uma matriz\n",
        "    size_x = len(seq1) + 1\n",
        "    size_y = len(seq2) + 1\n",
        "    matrix = np.zeros ((size_x, size_y))\n",
        "\n",
        "    # setar número de colunas (0, n-1)\n",
        "    for x in range(size_x):\n",
        "        matrix [x, 0] = x\n",
        "\n",
        "    # setar número de linhas (0, n-1)\n",
        "    for y in range(size_y):\n",
        "        matrix [0, y] = y\n",
        "\n",
        "    # calcular a distancia\n",
        "    for x in range(1, size_x):\n",
        "        for y in range(1, size_y):\n",
        "            # se os caracteres sao iguais, nao aumenta a distancia\n",
        "            if seq1[x-1] == seq2[y-1]:\n",
        "                matrix [x,y] = matrix[x-1, y-1]\n",
        "            # se são diferentes, aumenta a distancia em 1\n",
        "            else:\n",
        "                matrix [x,y] = min(\n",
        "                    matrix[x-1,y] + 1,\n",
        "                    matrix[x-1,y-1] + 1,\n",
        "                    matrix[x,y-1] + 1\n",
        "                )\n",
        "\n",
        "    # imprime a matriz de calculo da distancia\n",
        "    # list(seq1) converte string em uma lista de caracteres\n",
        "    print(pd.DataFrame(matrix[1:,1:], index=list(seq1), columns=list(seq2)))\n",
        "\n",
        "    return (matrix[size_x - 1, size_y - 1])"
      ],
      "metadata": {
        "id": "8L9lF8VC6i0U"
      },
      "execution_count": 3,
      "outputs": []
    },
    {
      "cell_type": "code",
      "source": [
        "levenshtein('amor','calor')"
      ],
      "metadata": {
        "colab": {
          "base_uri": "https://localhost:8080/"
        },
        "id": "TJ2QkBxiHpiz",
        "outputId": "eb3bb51c-04bd-421f-dad0-70195e86c31c"
      },
      "execution_count": 4,
      "outputs": [
        {
          "output_type": "stream",
          "name": "stdout",
          "text": [
            "     c    a    l    o    r\n",
            "a  1.0  1.0  2.0  3.0  4.0\n",
            "m  2.0  2.0  2.0  3.0  4.0\n",
            "o  3.0  3.0  3.0  2.0  3.0\n",
            "r  4.0  4.0  4.0  3.0  2.0\n"
          ]
        },
        {
          "output_type": "execute_result",
          "data": {
            "text/plain": [
              "2.0"
            ]
          },
          "metadata": {},
          "execution_count": 4
        }
      ]
    },
    {
      "cell_type": "code",
      "source": [
        "# Utilizando a distância de Levenshtein para comparar textos/sentenças\n",
        "print(df)\n",
        "print (\"------\")\n",
        "doc_id_a = 0 # id do texto 1\n",
        "doc_id_b = 1 # id do texto 2\n",
        "print(\"texto 1: \",df.loc[doc_id_a]['texts'])\n",
        "print(\"texto 2: \",df.loc[doc_id_b]['texts'])\n",
        "print (\"------\")\n",
        "\n",
        "levenshtein(df.loc[doc_id_a]['texts'],df.loc[doc_id_b]['texts'])"
      ],
      "metadata": {
        "colab": {
          "base_uri": "https://localhost:8080/"
        },
        "id": "pRz_I16hHyqW",
        "outputId": "f7db86e3-296f-44ef-9e6a-c85f3dd0d53c"
      },
      "execution_count": 5,
      "outputs": [
        {
          "output_type": "stream",
          "name": "stdout",
          "text": [
            "                                               texts      classes\n",
            "0   O Grêmio é tricampeão da Libertadores da América       Grêmio\n",
            "1  O Corinthians ganhou a Libertadores uma única vez  Corinthians\n",
            "------\n",
            "texto 1:  O Grêmio é tricampeão da Libertadores da América\n",
            "texto 2:  O Corinthians ganhou a Libertadores uma única vez\n",
            "------\n",
            "      O           C     o     r     i     n     t     h     i  ...        \\\n",
            "O   0.0   1.0   2.0   3.0   4.0   5.0   6.0   7.0   8.0   9.0  ...  39.0   \n",
            "    1.0   0.0   1.0   2.0   3.0   4.0   5.0   6.0   7.0   8.0  ...  38.0   \n",
            "G   2.0   1.0   1.0   2.0   3.0   4.0   5.0   6.0   7.0   8.0  ...  38.0   \n",
            "r   3.0   2.0   2.0   2.0   2.0   3.0   4.0   5.0   6.0   7.0  ...  37.0   \n",
            "ê   4.0   3.0   3.0   3.0   3.0   3.0   4.0   5.0   6.0   7.0  ...  37.0   \n",
            "m   5.0   4.0   4.0   4.0   4.0   4.0   4.0   5.0   6.0   7.0  ...  36.0   \n",
            "i   6.0   5.0   5.0   5.0   5.0   4.0   5.0   5.0   6.0   6.0  ...  36.0   \n",
            "o   7.0   6.0   6.0   5.0   6.0   5.0   5.0   6.0   6.0   7.0  ...  35.0   \n",
            "    8.0   7.0   7.0   6.0   6.0   6.0   6.0   6.0   7.0   7.0  ...  34.0   \n",
            "é   9.0   8.0   8.0   7.0   7.0   7.0   7.0   7.0   7.0   8.0  ...  34.0   \n",
            "   10.0   9.0   9.0   8.0   8.0   8.0   8.0   8.0   8.0   8.0  ...  33.0   \n",
            "t  11.0  10.0  10.0   9.0   9.0   9.0   9.0   8.0   9.0   9.0  ...  32.0   \n",
            "r  12.0  11.0  11.0  10.0   9.0  10.0  10.0   9.0   9.0  10.0  ...  31.0   \n",
            "i  13.0  12.0  12.0  11.0  10.0   9.0  10.0  10.0  10.0   9.0  ...  31.0   \n",
            "c  14.0  13.0  13.0  12.0  11.0  10.0  10.0  11.0  11.0  10.0  ...  31.0   \n",
            "a  15.0  14.0  14.0  13.0  12.0  11.0  11.0  11.0  12.0  11.0  ...  30.0   \n",
            "m  16.0  15.0  15.0  14.0  13.0  12.0  12.0  12.0  12.0  12.0  ...  30.0   \n",
            "p  17.0  16.0  16.0  15.0  14.0  13.0  13.0  13.0  13.0  13.0  ...  30.0   \n",
            "e  18.0  17.0  17.0  16.0  15.0  14.0  14.0  14.0  14.0  14.0  ...  30.0   \n",
            "ã  19.0  18.0  18.0  17.0  16.0  15.0  15.0  15.0  15.0  15.0  ...  31.0   \n",
            "o  20.0  19.0  19.0  18.0  17.0  16.0  16.0  16.0  16.0  16.0  ...  31.0   \n",
            "   21.0  20.0  20.0  19.0  18.0  17.0  17.0  17.0  17.0  17.0  ...  30.0   \n",
            "d  22.0  21.0  21.0  20.0  19.0  18.0  18.0  18.0  18.0  18.0  ...  31.0   \n",
            "a  23.0  22.0  22.0  21.0  20.0  19.0  19.0  19.0  19.0  19.0  ...  30.0   \n",
            "   24.0  23.0  23.0  22.0  21.0  20.0  20.0  20.0  20.0  20.0  ...  29.0   \n",
            "L  25.0  24.0  24.0  23.0  22.0  21.0  21.0  21.0  21.0  21.0  ...  30.0   \n",
            "i  26.0  25.0  25.0  24.0  23.0  22.0  22.0  22.0  22.0  21.0  ...  31.0   \n",
            "b  27.0  26.0  26.0  25.0  24.0  23.0  23.0  23.0  23.0  22.0  ...  31.0   \n",
            "e  28.0  27.0  27.0  26.0  25.0  24.0  24.0  24.0  24.0  23.0  ...  31.0   \n",
            "r  29.0  28.0  28.0  27.0  26.0  25.0  25.0  25.0  25.0  24.0  ...  31.0   \n",
            "t  30.0  29.0  29.0  28.0  27.0  26.0  26.0  25.0  26.0  25.0  ...  30.0   \n",
            "a  31.0  30.0  30.0  29.0  28.0  27.0  27.0  26.0  26.0  26.0  ...  29.0   \n",
            "d  32.0  31.0  31.0  30.0  29.0  28.0  28.0  27.0  27.0  27.0  ...  28.0   \n",
            "o  33.0  32.0  32.0  31.0  30.0  29.0  29.0  28.0  28.0  28.0  ...  27.0   \n",
            "r  34.0  33.0  33.0  32.0  31.0  30.0  30.0  29.0  29.0  29.0  ...  26.0   \n",
            "e  35.0  34.0  34.0  33.0  32.0  31.0  31.0  30.0  30.0  30.0  ...  25.0   \n",
            "s  36.0  35.0  35.0  34.0  33.0  32.0  32.0  31.0  31.0  31.0  ...  24.0   \n",
            "   37.0  36.0  36.0  35.0  34.0  33.0  33.0  32.0  32.0  32.0  ...  23.0   \n",
            "d  38.0  37.0  37.0  36.0  35.0  34.0  34.0  33.0  33.0  33.0  ...  23.0   \n",
            "a  39.0  38.0  38.0  37.0  36.0  35.0  35.0  34.0  34.0  34.0  ...  22.0   \n",
            "   40.0  39.0  39.0  38.0  37.0  36.0  36.0  35.0  35.0  35.0  ...  21.0   \n",
            "A  41.0  40.0  40.0  39.0  38.0  37.0  37.0  36.0  36.0  36.0  ...  22.0   \n",
            "m  42.0  41.0  41.0  40.0  39.0  38.0  38.0  37.0  37.0  37.0  ...  23.0   \n",
            "é  43.0  42.0  42.0  41.0  40.0  39.0  39.0  38.0  38.0  38.0  ...  24.0   \n",
            "r  44.0  43.0  43.0  42.0  41.0  40.0  40.0  39.0  39.0  39.0  ...  25.0   \n",
            "i  45.0  44.0  44.0  43.0  42.0  41.0  41.0  40.0  40.0  39.0  ...  26.0   \n",
            "c  46.0  45.0  45.0  44.0  43.0  42.0  42.0  41.0  41.0  40.0  ...  27.0   \n",
            "a  47.0  46.0  46.0  45.0  44.0  43.0  43.0  42.0  42.0  41.0  ...  28.0   \n",
            "\n",
            "      ú     n     i     c     a           v     e     z  \n",
            "O  40.0  41.0  42.0  43.0  44.0  45.0  46.0  47.0  48.0  \n",
            "   39.0  40.0  41.0  42.0  43.0  44.0  45.0  46.0  47.0  \n",
            "G  39.0  40.0  41.0  42.0  43.0  44.0  45.0  46.0  47.0  \n",
            "r  38.0  39.0  40.0  41.0  42.0  43.0  44.0  45.0  46.0  \n",
            "ê  38.0  39.0  40.0  41.0  42.0  43.0  44.0  45.0  46.0  \n",
            "m  37.0  38.0  39.0  40.0  41.0  42.0  43.0  44.0  45.0  \n",
            "i  37.0  38.0  38.0  39.0  40.0  41.0  42.0  43.0  44.0  \n",
            "o  36.0  37.0  38.0  39.0  40.0  41.0  42.0  43.0  44.0  \n",
            "   35.0  36.0  37.0  38.0  39.0  40.0  41.0  42.0  43.0  \n",
            "é  35.0  36.0  37.0  38.0  39.0  40.0  41.0  42.0  43.0  \n",
            "   34.0  35.0  36.0  37.0  38.0  39.0  40.0  41.0  42.0  \n",
            "t  33.0  34.0  35.0  36.0  37.0  38.0  39.0  40.0  41.0  \n",
            "r  32.0  33.0  34.0  35.0  36.0  37.0  38.0  39.0  40.0  \n",
            "i  32.0  33.0  33.0  34.0  35.0  36.0  37.0  38.0  39.0  \n",
            "c  32.0  33.0  34.0  33.0  34.0  35.0  36.0  37.0  38.0  \n",
            "a  31.0  32.0  33.0  34.0  33.0  34.0  35.0  36.0  37.0  \n",
            "m  31.0  32.0  33.0  34.0  34.0  34.0  35.0  36.0  37.0  \n",
            "p  31.0  32.0  33.0  34.0  35.0  35.0  35.0  36.0  37.0  \n",
            "e  31.0  32.0  33.0  34.0  35.0  36.0  36.0  35.0  36.0  \n",
            "ã  31.0  32.0  33.0  34.0  35.0  36.0  37.0  36.0  36.0  \n",
            "o  32.0  32.0  33.0  34.0  35.0  36.0  37.0  37.0  37.0  \n",
            "   31.0  32.0  33.0  34.0  35.0  35.0  36.0  37.0  38.0  \n",
            "d  31.0  32.0  33.0  34.0  35.0  36.0  36.0  37.0  38.0  \n",
            "a  31.0  32.0  33.0  34.0  34.0  35.0  36.0  37.0  38.0  \n",
            "   30.0  31.0  32.0  33.0  34.0  34.0  35.0  36.0  37.0  \n",
            "L  30.0  31.0  32.0  33.0  34.0  35.0  35.0  36.0  37.0  \n",
            "i  31.0  31.0  31.0  32.0  33.0  34.0  35.0  36.0  37.0  \n",
            "b  32.0  32.0  32.0  32.0  33.0  34.0  35.0  36.0  37.0  \n",
            "e  32.0  33.0  33.0  33.0  33.0  34.0  35.0  35.0  36.0  \n",
            "r  32.0  33.0  34.0  34.0  34.0  34.0  35.0  36.0  36.0  \n",
            "t  31.0  32.0  33.0  34.0  35.0  35.0  35.0  36.0  37.0  \n",
            "a  30.0  31.0  32.0  33.0  34.0  35.0  36.0  36.0  37.0  \n",
            "d  29.0  30.0  31.0  32.0  33.0  34.0  35.0  36.0  37.0  \n",
            "o  28.0  29.0  30.0  31.0  32.0  33.0  34.0  35.0  36.0  \n",
            "r  27.0  28.0  29.0  30.0  31.0  32.0  33.0  34.0  35.0  \n",
            "e  26.0  27.0  28.0  29.0  30.0  31.0  32.0  33.0  34.0  \n",
            "s  25.0  26.0  27.0  28.0  29.0  30.0  31.0  32.0  33.0  \n",
            "   24.0  25.0  26.0  27.0  28.0  29.0  30.0  31.0  32.0  \n",
            "d  24.0  25.0  26.0  27.0  28.0  29.0  30.0  31.0  32.0  \n",
            "a  23.0  24.0  25.0  26.0  27.0  28.0  29.0  30.0  31.0  \n",
            "   22.0  23.0  24.0  25.0  26.0  27.0  28.0  29.0  30.0  \n",
            "A  22.0  23.0  24.0  25.0  26.0  27.0  28.0  29.0  30.0  \n",
            "m  23.0  23.0  24.0  25.0  26.0  27.0  28.0  29.0  30.0  \n",
            "é  24.0  24.0  24.0  25.0  26.0  27.0  28.0  29.0  30.0  \n",
            "r  25.0  25.0  25.0  25.0  26.0  27.0  28.0  29.0  30.0  \n",
            "i  26.0  26.0  25.0  26.0  26.0  27.0  28.0  29.0  30.0  \n",
            "c  27.0  27.0  26.0  25.0  26.0  27.0  28.0  29.0  30.0  \n",
            "a  28.0  28.0  27.0  26.0  25.0  26.0  27.0  28.0  29.0  \n",
            "\n",
            "[48 rows x 49 columns]\n"
          ]
        },
        {
          "output_type": "execute_result",
          "data": {
            "text/plain": [
              "29.0"
            ]
          },
          "metadata": {},
          "execution_count": 5
        }
      ]
    },
    {
      "cell_type": "markdown",
      "source": [
        "## Similaridade Textual baseada em Termos"
      ],
      "metadata": {
        "id": "dDyK54G5K8MP"
      }
    },
    {
      "cell_type": "markdown",
      "source": [
        "### Vetorizando os documentos de treinamento"
      ],
      "metadata": {
        "id": "g9AZrOraTj2l"
      }
    },
    {
      "cell_type": "code",
      "source": [
        "from sklearn.feature_extraction.text import CountVectorizer\n",
        "\"\"\"Criando o objeto vetorizador (convertendo para letras minúsculas, removendo as stopwords especificadas em uma lista\n",
        "   e apenas mantendo os termos que ocorreram em dois ou mais documentos\"\"\"\n",
        "vetorizador = CountVectorizer(lowercase=True,\n",
        "                              stop_words=['is', 'are', 'a', 'or', 'to', 'in', 'the', 'so', 'since', 'many', 'of'],\n",
        "                              min_df=2,\n",
        "                              dtype=np.int16\n",
        "                              )"
      ],
      "metadata": {
        "id": "v-9zKxY6776n"
      },
      "execution_count": 6,
      "outputs": []
    },
    {
      "cell_type": "code",
      "source": [
        "# Obtendo o vocabulário\n",
        "vetorizador.fit(df['texts'])"
      ],
      "metadata": {
        "colab": {
          "base_uri": "https://localhost:8080/",
          "height": 115
        },
        "id": "EnqcxLMT8DZ7",
        "outputId": "e4cb2da3-60b2-48b7-e0a5-d9d5823124e7"
      },
      "execution_count": 7,
      "outputs": [
        {
          "output_type": "execute_result",
          "data": {
            "text/plain": [
              "CountVectorizer(dtype=<class 'numpy.int16'>, min_df=2,\n",
              "                stop_words=['is', 'are', 'a', 'or', 'to', 'in', 'the', 'so',\n",
              "                            'since', 'many', 'of'])"
            ],
            "text/html": [
              "<style>#sk-container-id-1 {\n",
              "  /* Definition of color scheme common for light and dark mode */\n",
              "  --sklearn-color-text: #000;\n",
              "  --sklearn-color-text-muted: #666;\n",
              "  --sklearn-color-line: gray;\n",
              "  /* Definition of color scheme for unfitted estimators */\n",
              "  --sklearn-color-unfitted-level-0: #fff5e6;\n",
              "  --sklearn-color-unfitted-level-1: #f6e4d2;\n",
              "  --sklearn-color-unfitted-level-2: #ffe0b3;\n",
              "  --sklearn-color-unfitted-level-3: chocolate;\n",
              "  /* Definition of color scheme for fitted estimators */\n",
              "  --sklearn-color-fitted-level-0: #f0f8ff;\n",
              "  --sklearn-color-fitted-level-1: #d4ebff;\n",
              "  --sklearn-color-fitted-level-2: #b3dbfd;\n",
              "  --sklearn-color-fitted-level-3: cornflowerblue;\n",
              "\n",
              "  /* Specific color for light theme */\n",
              "  --sklearn-color-text-on-default-background: var(--sg-text-color, var(--theme-code-foreground, var(--jp-content-font-color1, black)));\n",
              "  --sklearn-color-background: var(--sg-background-color, var(--theme-background, var(--jp-layout-color0, white)));\n",
              "  --sklearn-color-border-box: var(--sg-text-color, var(--theme-code-foreground, var(--jp-content-font-color1, black)));\n",
              "  --sklearn-color-icon: #696969;\n",
              "\n",
              "  @media (prefers-color-scheme: dark) {\n",
              "    /* Redefinition of color scheme for dark theme */\n",
              "    --sklearn-color-text-on-default-background: var(--sg-text-color, var(--theme-code-foreground, var(--jp-content-font-color1, white)));\n",
              "    --sklearn-color-background: var(--sg-background-color, var(--theme-background, var(--jp-layout-color0, #111)));\n",
              "    --sklearn-color-border-box: var(--sg-text-color, var(--theme-code-foreground, var(--jp-content-font-color1, white)));\n",
              "    --sklearn-color-icon: #878787;\n",
              "  }\n",
              "}\n",
              "\n",
              "#sk-container-id-1 {\n",
              "  color: var(--sklearn-color-text);\n",
              "}\n",
              "\n",
              "#sk-container-id-1 pre {\n",
              "  padding: 0;\n",
              "}\n",
              "\n",
              "#sk-container-id-1 input.sk-hidden--visually {\n",
              "  border: 0;\n",
              "  clip: rect(1px 1px 1px 1px);\n",
              "  clip: rect(1px, 1px, 1px, 1px);\n",
              "  height: 1px;\n",
              "  margin: -1px;\n",
              "  overflow: hidden;\n",
              "  padding: 0;\n",
              "  position: absolute;\n",
              "  width: 1px;\n",
              "}\n",
              "\n",
              "#sk-container-id-1 div.sk-dashed-wrapped {\n",
              "  border: 1px dashed var(--sklearn-color-line);\n",
              "  margin: 0 0.4em 0.5em 0.4em;\n",
              "  box-sizing: border-box;\n",
              "  padding-bottom: 0.4em;\n",
              "  background-color: var(--sklearn-color-background);\n",
              "}\n",
              "\n",
              "#sk-container-id-1 div.sk-container {\n",
              "  /* jupyter's `normalize.less` sets `[hidden] { display: none; }`\n",
              "     but bootstrap.min.css set `[hidden] { display: none !important; }`\n",
              "     so we also need the `!important` here to be able to override the\n",
              "     default hidden behavior on the sphinx rendered scikit-learn.org.\n",
              "     See: https://github.com/scikit-learn/scikit-learn/issues/21755 */\n",
              "  display: inline-block !important;\n",
              "  position: relative;\n",
              "}\n",
              "\n",
              "#sk-container-id-1 div.sk-text-repr-fallback {\n",
              "  display: none;\n",
              "}\n",
              "\n",
              "div.sk-parallel-item,\n",
              "div.sk-serial,\n",
              "div.sk-item {\n",
              "  /* draw centered vertical line to link estimators */\n",
              "  background-image: linear-gradient(var(--sklearn-color-text-on-default-background), var(--sklearn-color-text-on-default-background));\n",
              "  background-size: 2px 100%;\n",
              "  background-repeat: no-repeat;\n",
              "  background-position: center center;\n",
              "}\n",
              "\n",
              "/* Parallel-specific style estimator block */\n",
              "\n",
              "#sk-container-id-1 div.sk-parallel-item::after {\n",
              "  content: \"\";\n",
              "  width: 100%;\n",
              "  border-bottom: 2px solid var(--sklearn-color-text-on-default-background);\n",
              "  flex-grow: 1;\n",
              "}\n",
              "\n",
              "#sk-container-id-1 div.sk-parallel {\n",
              "  display: flex;\n",
              "  align-items: stretch;\n",
              "  justify-content: center;\n",
              "  background-color: var(--sklearn-color-background);\n",
              "  position: relative;\n",
              "}\n",
              "\n",
              "#sk-container-id-1 div.sk-parallel-item {\n",
              "  display: flex;\n",
              "  flex-direction: column;\n",
              "}\n",
              "\n",
              "#sk-container-id-1 div.sk-parallel-item:first-child::after {\n",
              "  align-self: flex-end;\n",
              "  width: 50%;\n",
              "}\n",
              "\n",
              "#sk-container-id-1 div.sk-parallel-item:last-child::after {\n",
              "  align-self: flex-start;\n",
              "  width: 50%;\n",
              "}\n",
              "\n",
              "#sk-container-id-1 div.sk-parallel-item:only-child::after {\n",
              "  width: 0;\n",
              "}\n",
              "\n",
              "/* Serial-specific style estimator block */\n",
              "\n",
              "#sk-container-id-1 div.sk-serial {\n",
              "  display: flex;\n",
              "  flex-direction: column;\n",
              "  align-items: center;\n",
              "  background-color: var(--sklearn-color-background);\n",
              "  padding-right: 1em;\n",
              "  padding-left: 1em;\n",
              "}\n",
              "\n",
              "\n",
              "/* Toggleable style: style used for estimator/Pipeline/ColumnTransformer box that is\n",
              "clickable and can be expanded/collapsed.\n",
              "- Pipeline and ColumnTransformer use this feature and define the default style\n",
              "- Estimators will overwrite some part of the style using the `sk-estimator` class\n",
              "*/\n",
              "\n",
              "/* Pipeline and ColumnTransformer style (default) */\n",
              "\n",
              "#sk-container-id-1 div.sk-toggleable {\n",
              "  /* Default theme specific background. It is overwritten whether we have a\n",
              "  specific estimator or a Pipeline/ColumnTransformer */\n",
              "  background-color: var(--sklearn-color-background);\n",
              "}\n",
              "\n",
              "/* Toggleable label */\n",
              "#sk-container-id-1 label.sk-toggleable__label {\n",
              "  cursor: pointer;\n",
              "  display: flex;\n",
              "  width: 100%;\n",
              "  margin-bottom: 0;\n",
              "  padding: 0.5em;\n",
              "  box-sizing: border-box;\n",
              "  text-align: center;\n",
              "  align-items: start;\n",
              "  justify-content: space-between;\n",
              "  gap: 0.5em;\n",
              "}\n",
              "\n",
              "#sk-container-id-1 label.sk-toggleable__label .caption {\n",
              "  font-size: 0.6rem;\n",
              "  font-weight: lighter;\n",
              "  color: var(--sklearn-color-text-muted);\n",
              "}\n",
              "\n",
              "#sk-container-id-1 label.sk-toggleable__label-arrow:before {\n",
              "  /* Arrow on the left of the label */\n",
              "  content: \"▸\";\n",
              "  float: left;\n",
              "  margin-right: 0.25em;\n",
              "  color: var(--sklearn-color-icon);\n",
              "}\n",
              "\n",
              "#sk-container-id-1 label.sk-toggleable__label-arrow:hover:before {\n",
              "  color: var(--sklearn-color-text);\n",
              "}\n",
              "\n",
              "/* Toggleable content - dropdown */\n",
              "\n",
              "#sk-container-id-1 div.sk-toggleable__content {\n",
              "  max-height: 0;\n",
              "  max-width: 0;\n",
              "  overflow: hidden;\n",
              "  text-align: left;\n",
              "  /* unfitted */\n",
              "  background-color: var(--sklearn-color-unfitted-level-0);\n",
              "}\n",
              "\n",
              "#sk-container-id-1 div.sk-toggleable__content.fitted {\n",
              "  /* fitted */\n",
              "  background-color: var(--sklearn-color-fitted-level-0);\n",
              "}\n",
              "\n",
              "#sk-container-id-1 div.sk-toggleable__content pre {\n",
              "  margin: 0.2em;\n",
              "  border-radius: 0.25em;\n",
              "  color: var(--sklearn-color-text);\n",
              "  /* unfitted */\n",
              "  background-color: var(--sklearn-color-unfitted-level-0);\n",
              "}\n",
              "\n",
              "#sk-container-id-1 div.sk-toggleable__content.fitted pre {\n",
              "  /* unfitted */\n",
              "  background-color: var(--sklearn-color-fitted-level-0);\n",
              "}\n",
              "\n",
              "#sk-container-id-1 input.sk-toggleable__control:checked~div.sk-toggleable__content {\n",
              "  /* Expand drop-down */\n",
              "  max-height: 200px;\n",
              "  max-width: 100%;\n",
              "  overflow: auto;\n",
              "}\n",
              "\n",
              "#sk-container-id-1 input.sk-toggleable__control:checked~label.sk-toggleable__label-arrow:before {\n",
              "  content: \"▾\";\n",
              "}\n",
              "\n",
              "/* Pipeline/ColumnTransformer-specific style */\n",
              "\n",
              "#sk-container-id-1 div.sk-label input.sk-toggleable__control:checked~label.sk-toggleable__label {\n",
              "  color: var(--sklearn-color-text);\n",
              "  background-color: var(--sklearn-color-unfitted-level-2);\n",
              "}\n",
              "\n",
              "#sk-container-id-1 div.sk-label.fitted input.sk-toggleable__control:checked~label.sk-toggleable__label {\n",
              "  background-color: var(--sklearn-color-fitted-level-2);\n",
              "}\n",
              "\n",
              "/* Estimator-specific style */\n",
              "\n",
              "/* Colorize estimator box */\n",
              "#sk-container-id-1 div.sk-estimator input.sk-toggleable__control:checked~label.sk-toggleable__label {\n",
              "  /* unfitted */\n",
              "  background-color: var(--sklearn-color-unfitted-level-2);\n",
              "}\n",
              "\n",
              "#sk-container-id-1 div.sk-estimator.fitted input.sk-toggleable__control:checked~label.sk-toggleable__label {\n",
              "  /* fitted */\n",
              "  background-color: var(--sklearn-color-fitted-level-2);\n",
              "}\n",
              "\n",
              "#sk-container-id-1 div.sk-label label.sk-toggleable__label,\n",
              "#sk-container-id-1 div.sk-label label {\n",
              "  /* The background is the default theme color */\n",
              "  color: var(--sklearn-color-text-on-default-background);\n",
              "}\n",
              "\n",
              "/* On hover, darken the color of the background */\n",
              "#sk-container-id-1 div.sk-label:hover label.sk-toggleable__label {\n",
              "  color: var(--sklearn-color-text);\n",
              "  background-color: var(--sklearn-color-unfitted-level-2);\n",
              "}\n",
              "\n",
              "/* Label box, darken color on hover, fitted */\n",
              "#sk-container-id-1 div.sk-label.fitted:hover label.sk-toggleable__label.fitted {\n",
              "  color: var(--sklearn-color-text);\n",
              "  background-color: var(--sklearn-color-fitted-level-2);\n",
              "}\n",
              "\n",
              "/* Estimator label */\n",
              "\n",
              "#sk-container-id-1 div.sk-label label {\n",
              "  font-family: monospace;\n",
              "  font-weight: bold;\n",
              "  display: inline-block;\n",
              "  line-height: 1.2em;\n",
              "}\n",
              "\n",
              "#sk-container-id-1 div.sk-label-container {\n",
              "  text-align: center;\n",
              "}\n",
              "\n",
              "/* Estimator-specific */\n",
              "#sk-container-id-1 div.sk-estimator {\n",
              "  font-family: monospace;\n",
              "  border: 1px dotted var(--sklearn-color-border-box);\n",
              "  border-radius: 0.25em;\n",
              "  box-sizing: border-box;\n",
              "  margin-bottom: 0.5em;\n",
              "  /* unfitted */\n",
              "  background-color: var(--sklearn-color-unfitted-level-0);\n",
              "}\n",
              "\n",
              "#sk-container-id-1 div.sk-estimator.fitted {\n",
              "  /* fitted */\n",
              "  background-color: var(--sklearn-color-fitted-level-0);\n",
              "}\n",
              "\n",
              "/* on hover */\n",
              "#sk-container-id-1 div.sk-estimator:hover {\n",
              "  /* unfitted */\n",
              "  background-color: var(--sklearn-color-unfitted-level-2);\n",
              "}\n",
              "\n",
              "#sk-container-id-1 div.sk-estimator.fitted:hover {\n",
              "  /* fitted */\n",
              "  background-color: var(--sklearn-color-fitted-level-2);\n",
              "}\n",
              "\n",
              "/* Specification for estimator info (e.g. \"i\" and \"?\") */\n",
              "\n",
              "/* Common style for \"i\" and \"?\" */\n",
              "\n",
              ".sk-estimator-doc-link,\n",
              "a:link.sk-estimator-doc-link,\n",
              "a:visited.sk-estimator-doc-link {\n",
              "  float: right;\n",
              "  font-size: smaller;\n",
              "  line-height: 1em;\n",
              "  font-family: monospace;\n",
              "  background-color: var(--sklearn-color-background);\n",
              "  border-radius: 1em;\n",
              "  height: 1em;\n",
              "  width: 1em;\n",
              "  text-decoration: none !important;\n",
              "  margin-left: 0.5em;\n",
              "  text-align: center;\n",
              "  /* unfitted */\n",
              "  border: var(--sklearn-color-unfitted-level-1) 1pt solid;\n",
              "  color: var(--sklearn-color-unfitted-level-1);\n",
              "}\n",
              "\n",
              ".sk-estimator-doc-link.fitted,\n",
              "a:link.sk-estimator-doc-link.fitted,\n",
              "a:visited.sk-estimator-doc-link.fitted {\n",
              "  /* fitted */\n",
              "  border: var(--sklearn-color-fitted-level-1) 1pt solid;\n",
              "  color: var(--sklearn-color-fitted-level-1);\n",
              "}\n",
              "\n",
              "/* On hover */\n",
              "div.sk-estimator:hover .sk-estimator-doc-link:hover,\n",
              ".sk-estimator-doc-link:hover,\n",
              "div.sk-label-container:hover .sk-estimator-doc-link:hover,\n",
              ".sk-estimator-doc-link:hover {\n",
              "  /* unfitted */\n",
              "  background-color: var(--sklearn-color-unfitted-level-3);\n",
              "  color: var(--sklearn-color-background);\n",
              "  text-decoration: none;\n",
              "}\n",
              "\n",
              "div.sk-estimator.fitted:hover .sk-estimator-doc-link.fitted:hover,\n",
              ".sk-estimator-doc-link.fitted:hover,\n",
              "div.sk-label-container:hover .sk-estimator-doc-link.fitted:hover,\n",
              ".sk-estimator-doc-link.fitted:hover {\n",
              "  /* fitted */\n",
              "  background-color: var(--sklearn-color-fitted-level-3);\n",
              "  color: var(--sklearn-color-background);\n",
              "  text-decoration: none;\n",
              "}\n",
              "\n",
              "/* Span, style for the box shown on hovering the info icon */\n",
              ".sk-estimator-doc-link span {\n",
              "  display: none;\n",
              "  z-index: 9999;\n",
              "  position: relative;\n",
              "  font-weight: normal;\n",
              "  right: .2ex;\n",
              "  padding: .5ex;\n",
              "  margin: .5ex;\n",
              "  width: min-content;\n",
              "  min-width: 20ex;\n",
              "  max-width: 50ex;\n",
              "  color: var(--sklearn-color-text);\n",
              "  box-shadow: 2pt 2pt 4pt #999;\n",
              "  /* unfitted */\n",
              "  background: var(--sklearn-color-unfitted-level-0);\n",
              "  border: .5pt solid var(--sklearn-color-unfitted-level-3);\n",
              "}\n",
              "\n",
              ".sk-estimator-doc-link.fitted span {\n",
              "  /* fitted */\n",
              "  background: var(--sklearn-color-fitted-level-0);\n",
              "  border: var(--sklearn-color-fitted-level-3);\n",
              "}\n",
              "\n",
              ".sk-estimator-doc-link:hover span {\n",
              "  display: block;\n",
              "}\n",
              "\n",
              "/* \"?\"-specific style due to the `<a>` HTML tag */\n",
              "\n",
              "#sk-container-id-1 a.estimator_doc_link {\n",
              "  float: right;\n",
              "  font-size: 1rem;\n",
              "  line-height: 1em;\n",
              "  font-family: monospace;\n",
              "  background-color: var(--sklearn-color-background);\n",
              "  border-radius: 1rem;\n",
              "  height: 1rem;\n",
              "  width: 1rem;\n",
              "  text-decoration: none;\n",
              "  /* unfitted */\n",
              "  color: var(--sklearn-color-unfitted-level-1);\n",
              "  border: var(--sklearn-color-unfitted-level-1) 1pt solid;\n",
              "}\n",
              "\n",
              "#sk-container-id-1 a.estimator_doc_link.fitted {\n",
              "  /* fitted */\n",
              "  border: var(--sklearn-color-fitted-level-1) 1pt solid;\n",
              "  color: var(--sklearn-color-fitted-level-1);\n",
              "}\n",
              "\n",
              "/* On hover */\n",
              "#sk-container-id-1 a.estimator_doc_link:hover {\n",
              "  /* unfitted */\n",
              "  background-color: var(--sklearn-color-unfitted-level-3);\n",
              "  color: var(--sklearn-color-background);\n",
              "  text-decoration: none;\n",
              "}\n",
              "\n",
              "#sk-container-id-1 a.estimator_doc_link.fitted:hover {\n",
              "  /* fitted */\n",
              "  background-color: var(--sklearn-color-fitted-level-3);\n",
              "}\n",
              "</style><div id=\"sk-container-id-1\" class=\"sk-top-container\"><div class=\"sk-text-repr-fallback\"><pre>CountVectorizer(dtype=&lt;class &#x27;numpy.int16&#x27;&gt;, min_df=2,\n",
              "                stop_words=[&#x27;is&#x27;, &#x27;are&#x27;, &#x27;a&#x27;, &#x27;or&#x27;, &#x27;to&#x27;, &#x27;in&#x27;, &#x27;the&#x27;, &#x27;so&#x27;,\n",
              "                            &#x27;since&#x27;, &#x27;many&#x27;, &#x27;of&#x27;])</pre><b>In a Jupyter environment, please rerun this cell to show the HTML representation or trust the notebook. <br />On GitHub, the HTML representation is unable to render, please try loading this page with nbviewer.org.</b></div><div class=\"sk-container\" hidden><div class=\"sk-item\"><div class=\"sk-estimator fitted sk-toggleable\"><input class=\"sk-toggleable__control sk-hidden--visually\" id=\"sk-estimator-id-1\" type=\"checkbox\" checked><label for=\"sk-estimator-id-1\" class=\"sk-toggleable__label fitted sk-toggleable__label-arrow\"><div><div>CountVectorizer</div></div><div><a class=\"sk-estimator-doc-link fitted\" rel=\"noreferrer\" target=\"_blank\" href=\"https://scikit-learn.org/1.6/modules/generated/sklearn.feature_extraction.text.CountVectorizer.html\">?<span>Documentation for CountVectorizer</span></a><span class=\"sk-estimator-doc-link fitted\">i<span>Fitted</span></span></div></label><div class=\"sk-toggleable__content fitted\"><pre>CountVectorizer(dtype=&lt;class &#x27;numpy.int16&#x27;&gt;, min_df=2,\n",
              "                stop_words=[&#x27;is&#x27;, &#x27;are&#x27;, &#x27;a&#x27;, &#x27;or&#x27;, &#x27;to&#x27;, &#x27;in&#x27;, &#x27;the&#x27;, &#x27;so&#x27;,\n",
              "                            &#x27;since&#x27;, &#x27;many&#x27;, &#x27;of&#x27;])</pre></div> </div></div></div></div>"
            ]
          },
          "metadata": {},
          "execution_count": 7
        }
      ]
    },
    {
      "cell_type": "code",
      "source": [
        "# Gerando a representação estruturada a partir do vocabulário ajustado\n",
        "representacao = vetorizador.transform(df['texts'])\n",
        "# A representação retornada é uma matriz em um formato esparso  (posso gerar o array usando toArray())\n",
        "representacao\n",
        "rep_array = representacao.toarray() # a partir daqui podemos aplicar as funções de similaridade\n",
        "print(rep_array)"
      ],
      "metadata": {
        "id": "Ry1DbRvz7IBa",
        "colab": {
          "base_uri": "https://localhost:8080/"
        },
        "outputId": "464dcfa3-42aa-40c9-f3be-58d03fcad05b"
      },
      "execution_count": 8,
      "outputs": [
        {
          "output_type": "stream",
          "name": "stdout",
          "text": [
            "[[1]\n",
            " [1]]\n"
          ]
        }
      ]
    },
    {
      "cell_type": "markdown",
      "source": [
        "### Cosseno"
      ],
      "metadata": {
        "id": "rspLQ4Pq_gwj"
      }
    },
    {
      "cell_type": "code",
      "source": [
        "from sklearn.metrics.pairwise import cosine_similarity\n",
        "matrix_sim = cosine_similarity(rep_array)"
      ],
      "metadata": {
        "id": "4cqsxo4w7J3r"
      },
      "execution_count": 9,
      "outputs": []
    },
    {
      "cell_type": "code",
      "source": [
        "matrix_sim"
      ],
      "metadata": {
        "colab": {
          "base_uri": "https://localhost:8080/"
        },
        "id": "TZ6CXkxI7Lz8",
        "outputId": "d333e431-33a5-495f-e4b3-28cce5779fc2"
      },
      "execution_count": 10,
      "outputs": [
        {
          "output_type": "execute_result",
          "data": {
            "text/plain": [
              "array([[1., 1.],\n",
              "       [1., 1.]])"
            ]
          },
          "metadata": {},
          "execution_count": 10
        }
      ]
    },
    {
      "cell_type": "code",
      "source": [
        "def most_similar(id_doc, matrix):\n",
        "  matrix_sim = cosine_similarity(matrix)\n",
        "  best_sim = -1\n",
        "  id_best_sim = -1;\n",
        "  for id, doc_sim in enumerate(matrix_sim[id_doc]):\n",
        "    if id != id_doc:\n",
        "      if doc_sim > best_sim:\n",
        "        best_sim = doc_sim\n",
        "        id_best_sim = id\n",
        "  return id_best_sim"
      ],
      "metadata": {
        "id": "mziuF_uC7Niq"
      },
      "execution_count": 11,
      "outputs": []
    },
    {
      "cell_type": "code",
      "source": [
        "print(df)\n",
        "print (\"------\")\n",
        "doc_id = 1\n",
        "print(\"Texto: \", df.loc[doc_id]['texts'])\n",
        "print(\"Texto mais parecido: \", df.loc[most_similar(doc_id, rep_array)]['texts'])"
      ],
      "metadata": {
        "colab": {
          "base_uri": "https://localhost:8080/"
        },
        "id": "vm2jWoLd7QJY",
        "outputId": "561d45f3-a2b7-4433-e7f8-38ac284cf513"
      },
      "execution_count": 13,
      "outputs": [
        {
          "output_type": "stream",
          "name": "stdout",
          "text": [
            "                                               texts      classes\n",
            "0   O Grêmio é tricampeão da Libertadores da América       Grêmio\n",
            "1  O Corinthians ganhou a Libertadores uma única vez  Corinthians\n",
            "------\n",
            "Texto:  O Corinthians ganhou a Libertadores uma única vez\n",
            "Texto mais parecido:  O Grêmio é tricampeão da Libertadores da América\n"
          ]
        }
      ]
    },
    {
      "cell_type": "markdown",
      "source": [
        "### Jaccard"
      ],
      "metadata": {
        "id": "Ro-yzMUODUWH"
      }
    },
    {
      "cell_type": "markdown",
      "source": [
        "\"O índice de Jaccard é uma estatística para comparar e medir a semelhança entre dois conjuntos diferentes. É uma proporção da interseção de dois conjuntos sobre a união deles.\n",
        "\n",
        "Se você tiver um número finito representativo de elementos para uma observação específica e quiser comparar essa observação com outra observação, poderá contar o número de itens comuns a esses dois conjuntos. É um ajuste natural para comparar postagens se você conhece as *tags* representativas das postagens para medir o quão semelhantes dois artigos são em termos de *tags*.\"\n",
        "\n",
        "Fonte: http://bugra.github.io/work/notes/2017-02-07/similarity-via-jaccard-index/"
      ],
      "metadata": {
        "id": "kCDA8pVjT6eR"
      }
    },
    {
      "cell_type": "code",
      "source": [
        "from sklearn.metrics import pairwise_distances"
      ],
      "metadata": {
        "id": "DnF85_h3Ao3x"
      },
      "execution_count": 14,
      "outputs": []
    },
    {
      "cell_type": "code",
      "execution_count": 15,
      "metadata": {
        "id": "rF93rmYdC-NA"
      },
      "outputs": [],
      "source": [
        "def most_similar(id_doc, matrix):\n",
        "  matrix_sim = 1 - pairwise_distances(matrix, metric='jaccard') # como é medida de distância (valor entre 0 e 1), utilizar o complemento\n",
        "  best_sim = -1\n",
        "  id_best_sim = -1;\n",
        "  for id, doc_sim in enumerate(matrix_sim[id_doc]):\n",
        "    if id != id_doc:\n",
        "      if doc_sim > best_sim:\n",
        "        best_sim = doc_sim\n",
        "        id_best_sim = id\n",
        "  return id_best_sim"
      ]
    },
    {
      "cell_type": "code",
      "source": [
        "matrix_sim = 1 - pairwise_distances(rep_array, metric='jaccard')\n",
        "matrix_sim"
      ],
      "metadata": {
        "colab": {
          "base_uri": "https://localhost:8080/"
        },
        "id": "CNuHX7ncC6Sg",
        "outputId": "a6c7367d-d0f1-4c76-c97a-ae5d2f8e65b8"
      },
      "execution_count": 16,
      "outputs": [
        {
          "output_type": "stream",
          "name": "stderr",
          "text": [
            "/usr/local/lib/python3.11/dist-packages/sklearn/metrics/pairwise.py:2466: DataConversionWarning: Data was converted to boolean for metric jaccard\n",
            "  warnings.warn(msg, DataConversionWarning)\n"
          ]
        },
        {
          "output_type": "execute_result",
          "data": {
            "text/plain": [
              "array([[1., 1.],\n",
              "       [1., 1.]])"
            ]
          },
          "metadata": {},
          "execution_count": 16
        }
      ]
    },
    {
      "cell_type": "code",
      "source": [
        "import warnings\n",
        "warnings.filterwarnings(\"ignore\") # não imprimir o warning por não utilizar valores binários\n",
        "\n",
        "print(df)\n",
        "print (\"------\")\n",
        "doc_id = 1\n",
        "print(\"Texto: \", df.loc[doc_id]['texts'])\n",
        "print(\"Texto mais parecido: \", df.loc[most_similar(doc_id, rep_array)]['texts'])"
      ],
      "metadata": {
        "colab": {
          "base_uri": "https://localhost:8080/"
        },
        "id": "7TsXbLK8A3si",
        "outputId": "0bd7b18a-acd7-4d2b-828e-daaf55343736"
      },
      "execution_count": 18,
      "outputs": [
        {
          "output_type": "stream",
          "name": "stdout",
          "text": [
            "                                               texts      classes\n",
            "0   O Grêmio é tricampeão da Libertadores da América       Grêmio\n",
            "1  O Corinthians ganhou a Libertadores uma única vez  Corinthians\n",
            "------\n",
            "Texto:  O Corinthians ganhou a Libertadores uma única vez\n",
            "Texto mais parecido:  O Grêmio é tricampeão da Libertadores da América\n"
          ]
        }
      ]
    },
    {
      "cell_type": "markdown",
      "source": [
        "### Jaccard backup (testar depois com os mesmos textos das outras)"
      ],
      "metadata": {
        "id": "Z90YkTuoEV_7"
      }
    },
    {
      "cell_type": "code",
      "source": [
        "def jaccard_similarity(x,y):\n",
        "  \"\"\" retorna a similaridade de jaccard entre duas listas \"\"\"\n",
        "  intersection_cardinality = len(set.intersection(*[set(x), set(y)]))\n",
        "  union_cardinality = len(set.union(*[set(x), set(y)]))\n",
        "  return intersection_cardinality/float(union_cardinality)\n",
        "\n",
        "texto1 = rep_array[1]\n",
        "texto2 = rep_array[0]\n",
        "\n",
        "print(texto1)\n",
        "print(texto2)\n",
        "\n",
        "print(jaccard_similarity(texto1, texto2))\n",
        "\n",
        "print(matrix_sim[1][0])"
      ],
      "metadata": {
        "colab": {
          "base_uri": "https://localhost:8080/"
        },
        "id": "fNfbXD3EDjtA",
        "outputId": "ac3db1c4-9183-4334-ac4f-6d14ed0ffd38"
      },
      "execution_count": 20,
      "outputs": [
        {
          "output_type": "stream",
          "name": "stdout",
          "text": [
            "[1]\n",
            "[1]\n",
            "1.0\n",
            "1.0\n"
          ]
        }
      ]
    },
    {
      "cell_type": "markdown",
      "source": [
        "### Euclidiana"
      ],
      "metadata": {
        "id": "_gz4irrEDFjs"
      }
    },
    {
      "cell_type": "code",
      "source": [
        "def most_similar(id_doc, matrix):\n",
        "  matrix_sim = pairwise_distances(matrix, metric='euclidean')\n",
        "  best_sim = 99999999\n",
        "  id_best_sim = -1;\n",
        "  for id, doc_sim in enumerate(matrix_sim[id_doc]):\n",
        "    if id != id_doc:\n",
        "      if doc_sim <= best_sim:\n",
        "        best_sim = doc_sim\n",
        "        id_best_sim = id\n",
        "  return id_best_sim"
      ],
      "metadata": {
        "id": "87jEthOnEOGr"
      },
      "execution_count": 21,
      "outputs": []
    },
    {
      "cell_type": "code",
      "source": [
        "matrix_sim = pairwise_distances(rep_array, metric='euclidean')\n",
        "matrix_sim"
      ],
      "metadata": {
        "colab": {
          "base_uri": "https://localhost:8080/"
        },
        "id": "-cSeyivLG-iP",
        "outputId": "ac249b1b-b35d-402a-d31d-0d2a43841f3d"
      },
      "execution_count": 22,
      "outputs": [
        {
          "output_type": "execute_result",
          "data": {
            "text/plain": [
              "array([[0., 0.],\n",
              "       [0., 0.]])"
            ]
          },
          "metadata": {},
          "execution_count": 22
        }
      ]
    },
    {
      "cell_type": "code",
      "source": [
        "print(df)\n",
        "print (\"------\")\n",
        "doc_id = 1\n",
        "#df.loc[doc_id]['texts']\n",
        "df.loc[most_similar(doc_id, rep_array)]['texts']"
      ],
      "metadata": {
        "colab": {
          "base_uri": "https://localhost:8080/",
          "height": 107
        },
        "id": "Lk-XSJrvETEP",
        "outputId": "3309ee0f-0188-4a18-b844-6da3c9eb5224"
      },
      "execution_count": 23,
      "outputs": [
        {
          "output_type": "stream",
          "name": "stdout",
          "text": [
            "                                               texts      classes\n",
            "0   O Grêmio é tricampeão da Libertadores da América       Grêmio\n",
            "1  O Corinthians ganhou a Libertadores uma única vez  Corinthians\n",
            "------\n"
          ]
        },
        {
          "output_type": "execute_result",
          "data": {
            "text/plain": [
              "'O Grêmio é tricampeão da Libertadores da América'"
            ],
            "application/vnd.google.colaboratory.intrinsic+json": {
              "type": "string"
            }
          },
          "metadata": {},
          "execution_count": 23
        }
      ]
    },
    {
      "cell_type": "markdown",
      "source": [
        "# Agradecimentos\n",
        "\n",
        "Curso de Tópicos em Inteligência Artificial (Rafael G. Rossi)\n",
        "*   https://github.com/ragero/topicos_inteligencia_artificial_2_2020\n",
        "\n",
        "Similaridade Textual (Alex Sherman)\n",
        "*   https://colab.research.google.com/drive/12x2ygJk2ciN7Wco2_g00MR20jPuMR9_K\n",
        "\n",
        "\n",
        "\n",
        "\n"
      ],
      "metadata": {
        "id": "dQWuuu1zdTrr"
      }
    }
  ]
}